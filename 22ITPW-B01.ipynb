{
  "cells": [
    {
      "cell_type": "code",
      "execution_count": null,
      "metadata": {
        "colab": {
          "base_uri": "https://localhost:8080/"
        },
        "id": "G5BLNGB58fqL",
        "outputId": "fefa1c03-a116-4ea6-872d-a4f62163f98f"
      },
      "outputs": [
        {
          "output_type": "stream",
          "name": "stdout",
          "text": [
            "Using device: cuda\n"
          ]
        },
        {
          "output_type": "stream",
          "name": "stderr",
          "text": [
            "100%|██████████| 5.00G/5.00G [01:05<00:00, 75.9MB/s]\n"
          ]
        },
        {
          "output_type": "stream",
          "name": "stdout",
          "text": [
            "Train size: 75750, Test size: 25250\n",
            "Total classes: 101\n"
          ]
        },
        {
          "output_type": "stream",
          "name": "stderr",
          "text": [
            "Downloading: \"https://download.pytorch.org/models/resnet50-11ad3fa6.pth\" to /root/.cache/torch/hub/checkpoints/resnet50-11ad3fa6.pth\n",
            "100%|██████████| 97.8M/97.8M [00:01<00:00, 95.9MB/s]\n",
            "<ipython-input-1-33cef0e635cc>:70: FutureWarning: `torch.cuda.amp.GradScaler(args...)` is deprecated. Please use `torch.amp.GradScaler('cuda', args...)` instead.\n",
            "  scaler = GradScaler()\n",
            "Epoch 1:   0%|          | 0/1184 [00:00<?, ?it/s]<ipython-input-1-33cef0e635cc>:81: FutureWarning: `torch.cuda.amp.autocast(args...)` is deprecated. Please use `torch.amp.autocast('cuda', args...)` instead.\n",
            "  with autocast():\n",
            "W0414 12:15:53.222000 206 torch/_inductor/utils.py:1137] [0/0] Not enough SMs to use max_autotune_gemm mode\n",
            "Epoch 1:   0%|          | 1/1184 [01:47<35:24:44, 107.76s/it]<ipython-input-1-33cef0e635cc>:81: FutureWarning: `torch.cuda.amp.autocast(args...)` is deprecated. Please use `torch.amp.autocast('cuda', args...)` instead.\n",
            "  with autocast():\n",
            "Epoch 1: 100%|██████████| 1184/1184 [11:27<00:00,  1.72it/s]\n"
          ]
        },
        {
          "output_type": "stream",
          "name": "stdout",
          "text": [
            "Epoch 1: Train Acc: 49.69%, Test Acc: 74.09%\n",
            "✅ New best model saved: 74.09%\n",
            "✅ Model saved for inference with Streamlit app\n"
          ]
        },
        {
          "output_type": "stream",
          "name": "stderr",
          "text": [
            "\rEpoch 2:   0%|          | 0/1184 [00:00<?, ?it/s]<ipython-input-1-33cef0e635cc>:81: FutureWarning: `torch.cuda.amp.autocast(args...)` is deprecated. Please use `torch.amp.autocast('cuda', args...)` instead.\n",
            "  with autocast():\n",
            "Epoch 2: 100%|██████████| 1184/1184 [07:57<00:00,  2.48it/s]\n"
          ]
        },
        {
          "output_type": "stream",
          "name": "stdout",
          "text": [
            "Epoch 2: Train Acc: 63.85%, Test Acc: 81.70%\n",
            "✅ New best model saved: 81.70%\n",
            "✅ Model saved for inference with Streamlit app\n"
          ]
        },
        {
          "output_type": "stream",
          "name": "stderr",
          "text": [
            "Epoch 3: 100%|██████████| 1184/1184 [07:46<00:00,  2.54it/s]\n"
          ]
        },
        {
          "output_type": "stream",
          "name": "stdout",
          "text": [
            "Epoch 3: Train Acc: 70.65%, Test Acc: 82.56%\n",
            "✅ New best model saved: 82.56%\n",
            "✅ Model saved for inference with Streamlit app\n"
          ]
        },
        {
          "output_type": "stream",
          "name": "stderr",
          "text": [
            "Epoch 4: 100%|██████████| 1184/1184 [07:36<00:00,  2.59it/s]\n"
          ]
        },
        {
          "output_type": "stream",
          "name": "stdout",
          "text": [
            "Epoch 4: Train Acc: 73.21%, Test Acc: 81.87%\n"
          ]
        },
        {
          "output_type": "stream",
          "name": "stderr",
          "text": [
            "Epoch 5: 100%|██████████| 1184/1184 [07:35<00:00,  2.60it/s]\n"
          ]
        },
        {
          "output_type": "stream",
          "name": "stdout",
          "text": [
            "Epoch 5: Train Acc: 73.29%, Test Acc: 83.60%\n",
            "✅ New best model saved: 83.60%\n",
            "✅ Model saved for inference with Streamlit app\n"
          ]
        },
        {
          "output_type": "stream",
          "name": "stderr",
          "text": [
            "Epoch 6: 100%|██████████| 1184/1184 [07:36<00:00,  2.59it/s]\n"
          ]
        },
        {
          "output_type": "stream",
          "name": "stdout",
          "text": [
            "Epoch 6: Train Acc: 78.09%, Test Acc: 86.67%\n",
            "✅ New best model saved: 86.67%\n",
            "✅ Model saved for inference with Streamlit app\n"
          ]
        },
        {
          "output_type": "stream",
          "name": "stderr",
          "text": [
            "Epoch 7: 100%|██████████| 1184/1184 [07:37<00:00,  2.59it/s]\n"
          ]
        },
        {
          "output_type": "stream",
          "name": "stdout",
          "text": [
            "Epoch 7: Train Acc: 79.37%, Test Acc: 87.16%\n",
            "✅ New best model saved: 87.16%\n",
            "✅ Model saved for inference with Streamlit app\n"
          ]
        },
        {
          "output_type": "stream",
          "name": "stderr",
          "text": [
            "Epoch 8: 100%|██████████| 1184/1184 [07:26<00:00,  2.65it/s]\n"
          ]
        },
        {
          "output_type": "stream",
          "name": "stdout",
          "text": [
            "Epoch 8: Train Acc: 80.02%, Test Acc: 87.47%\n",
            "✅ New best model saved: 87.47%\n",
            "✅ Model saved for inference with Streamlit app\n"
          ]
        },
        {
          "output_type": "stream",
          "name": "stderr",
          "text": [
            "Epoch 9: 100%|██████████| 1184/1184 [07:27<00:00,  2.65it/s]\n"
          ]
        },
        {
          "output_type": "stream",
          "name": "stdout",
          "text": [
            "Epoch 9: Train Acc: 80.96%, Test Acc: 87.58%\n",
            "✅ New best model saved: 87.58%\n",
            "✅ Model saved for inference with Streamlit app\n"
          ]
        },
        {
          "output_type": "stream",
          "name": "stderr",
          "text": [
            "Epoch 10: 100%|██████████| 1184/1184 [07:19<00:00,  2.69it/s]\n"
          ]
        },
        {
          "output_type": "stream",
          "name": "stdout",
          "text": [
            "Epoch 10: Train Acc: 81.04%, Test Acc: 87.61%\n",
            "✅ New best model saved: 87.61%\n",
            "✅ Model saved for inference with Streamlit app\n"
          ]
        },
        {
          "output_type": "stream",
          "name": "stderr",
          "text": [
            "Epoch 11: 100%|██████████| 1184/1184 [07:11<00:00,  2.75it/s]\n"
          ]
        },
        {
          "output_type": "stream",
          "name": "stdout",
          "text": [
            "Epoch 11: Train Acc: 81.68%, Test Acc: 87.63%\n",
            "✅ New best model saved: 87.63%\n",
            "✅ Model saved for inference with Streamlit app\n"
          ]
        },
        {
          "output_type": "stream",
          "name": "stderr",
          "text": [
            "Epoch 12: 100%|██████████| 1184/1184 [06:57<00:00,  2.84it/s]\n"
          ]
        },
        {
          "output_type": "stream",
          "name": "stdout",
          "text": [
            "Epoch 12: Train Acc: 81.87%, Test Acc: 87.77%\n",
            "✅ New best model saved: 87.77%\n",
            "✅ Model saved for inference with Streamlit app\n"
          ]
        },
        {
          "output_type": "stream",
          "name": "stderr",
          "text": [
            "Epoch 13: 100%|██████████| 1184/1184 [06:54<00:00,  2.85it/s]\n"
          ]
        },
        {
          "output_type": "stream",
          "name": "stdout",
          "text": [
            "Epoch 13: Train Acc: 81.94%, Test Acc: 87.74%\n"
          ]
        },
        {
          "output_type": "stream",
          "name": "stderr",
          "text": [
            "Epoch 14: 100%|██████████| 1184/1184 [06:57<00:00,  2.84it/s]\n"
          ]
        },
        {
          "output_type": "stream",
          "name": "stdout",
          "text": [
            "Epoch 14: Train Acc: 81.95%, Test Acc: 87.77%\n"
          ]
        },
        {
          "output_type": "stream",
          "name": "stderr",
          "text": [
            "Epoch 15: 100%|██████████| 1184/1184 [06:59<00:00,  2.82it/s]\n"
          ]
        },
        {
          "output_type": "stream",
          "name": "stdout",
          "text": [
            "Epoch 15: Train Acc: 81.98%, Test Acc: 87.88%\n",
            "✅ New best model saved: 87.88%\n",
            "✅ Model saved for inference with Streamlit app\n"
          ]
        },
        {
          "output_type": "stream",
          "name": "stderr",
          "text": [
            "Epoch 16: 100%|██████████| 1184/1184 [06:53<00:00,  2.86it/s]\n"
          ]
        },
        {
          "output_type": "stream",
          "name": "stdout",
          "text": [
            "Epoch 16: Train Acc: 82.02%, Test Acc: 87.78%\n"
          ]
        },
        {
          "output_type": "stream",
          "name": "stderr",
          "text": [
            "Epoch 17: 100%|██████████| 1184/1184 [06:49<00:00,  2.89it/s]\n"
          ]
        },
        {
          "output_type": "stream",
          "name": "stdout",
          "text": [
            "Epoch 17: Train Acc: 82.01%, Test Acc: 87.81%\n"
          ]
        },
        {
          "output_type": "stream",
          "name": "stderr",
          "text": [
            "Epoch 18: 100%|██████████| 1184/1184 [06:46<00:00,  2.91it/s]\n"
          ]
        },
        {
          "output_type": "stream",
          "name": "stdout",
          "text": [
            "Epoch 18: Train Acc: 82.15%, Test Acc: 87.95%\n",
            "✅ New best model saved: 87.95%\n",
            "✅ Model saved for inference with Streamlit app\n"
          ]
        },
        {
          "output_type": "stream",
          "name": "stderr",
          "text": [
            "Epoch 19: 100%|██████████| 1184/1184 [06:48<00:00,  2.90it/s]\n"
          ]
        },
        {
          "output_type": "stream",
          "name": "stdout",
          "text": [
            "Epoch 19: Train Acc: 82.11%, Test Acc: 87.83%\n"
          ]
        },
        {
          "output_type": "stream",
          "name": "stderr",
          "text": [
            "Epoch 20: 100%|██████████| 1184/1184 [06:46<00:00,  2.91it/s]\n"
          ]
        },
        {
          "output_type": "stream",
          "name": "stdout",
          "text": [
            "Epoch 20: Train Acc: 82.12%, Test Acc: 87.94%\n"
          ]
        },
        {
          "output_type": "stream",
          "name": "stderr",
          "text": [
            "Epoch 21: 100%|██████████| 1184/1184 [06:56<00:00,  2.84it/s]\n"
          ]
        },
        {
          "output_type": "stream",
          "name": "stdout",
          "text": [
            "Epoch 21: Train Acc: 82.05%, Test Acc: 87.85%\n"
          ]
        },
        {
          "output_type": "stream",
          "name": "stderr",
          "text": [
            "Epoch 22: 100%|██████████| 1184/1184 [06:55<00:00,  2.85it/s]\n"
          ]
        },
        {
          "output_type": "stream",
          "name": "stdout",
          "text": [
            "Epoch 22: Train Acc: 81.99%, Test Acc: 87.81%\n"
          ]
        },
        {
          "output_type": "stream",
          "name": "stderr",
          "text": [
            "Epoch 23: 100%|██████████| 1184/1184 [06:58<00:00,  2.83it/s]\n"
          ]
        },
        {
          "output_type": "stream",
          "name": "stdout",
          "text": [
            "Epoch 23: Train Acc: 82.08%, Test Acc: 87.84%\n"
          ]
        },
        {
          "output_type": "stream",
          "name": "stderr",
          "text": [
            "Epoch 24: 100%|██████████| 1184/1184 [06:41<00:00,  2.95it/s]\n"
          ]
        },
        {
          "output_type": "stream",
          "name": "stdout",
          "text": [
            "Epoch 24: Train Acc: 82.09%, Test Acc: 87.83%\n"
          ]
        },
        {
          "output_type": "stream",
          "name": "stderr",
          "text": [
            "Epoch 25: 100%|██████████| 1184/1184 [06:42<00:00,  2.94it/s]\n"
          ]
        },
        {
          "output_type": "stream",
          "name": "stdout",
          "text": [
            "Epoch 25: Train Acc: 81.93%, Test Acc: 87.86%\n"
          ]
        },
        {
          "output_type": "stream",
          "name": "stderr",
          "text": [
            "Epoch 26: 100%|██████████| 1184/1184 [06:46<00:00,  2.91it/s]\n"
          ]
        }
      ],
      "source": [
        "import torch\n",
        "import torch.nn as nn\n",
        "import torch.optim as optim\n",
        "import torchvision.transforms as transforms\n",
        "import torchvision.datasets as datasets\n",
        "import torchvision.models as models\n",
        "from torch.utils.data import DataLoader\n",
        "from torch.optim.lr_scheduler import StepLR\n",
        "from torch.cuda.amp import autocast, GradScaler\n",
        "from tqdm import tqdm\n",
        "import os\n",
        "\n",
        "device = torch.device(\"cuda\" if torch.cuda.is_available() else \"cpu\")\n",
        "print(f\"Using device: {device}\")\n",
        "\n",
        "# Data Augmentation (optimized for speed)\n",
        "train_transforms = transforms.Compose([\n",
        "    transforms.RandomResizedCrop(224),\n",
        "    transforms.RandomHorizontalFlip(),\n",
        "    transforms.ToTensor(),\n",
        "    transforms.Normalize([0.485, 0.456, 0.406], [0.229, 0.224, 0.225])\n",
        "])\n",
        "\n",
        "test_transforms = transforms.Compose([\n",
        "    transforms.Resize(256),\n",
        "    transforms.CenterCrop(224),\n",
        "    transforms.ToTensor(),\n",
        "    transforms.Normalize([0.485, 0.456, 0.406], [0.229, 0.224, 0.225])\n",
        "])\n",
        "\n",
        "# Dataset\n",
        "train_dataset = datasets.Food101(root=\"data\", split=\"train\", download=True, transform=train_transforms)\n",
        "test_dataset = datasets.Food101(root=\"data\", split=\"test\", download=True, transform=test_transforms)\n",
        "\n",
        "train_loader = DataLoader(train_dataset, batch_size=64, shuffle=True, num_workers=2, pin_memory=True)\n",
        "test_loader = DataLoader(test_dataset, batch_size=64, shuffle=False, num_workers=2, pin_memory=True)\n",
        "print(f\"Train size: {len(train_dataset)}, Test size: {len(test_dataset)}\")\n",
        "\n",
        "# Get class names from dataset\n",
        "class_names = train_dataset.classes\n",
        "print(f\"Total classes: {len(class_names)}\")\n",
        "\n",
        "# Define model structure to match the Streamlit app's FoodClassifier class\n",
        "class FoodClassifier(nn.Module):\n",
        "    def __init__(self, num_classes=101):\n",
        "        super(FoodClassifier, self).__init__()\n",
        "        # Load pre-trained ResNet50\n",
        "        self.resnet = models.resnet50(weights=models.ResNet50_Weights.IMAGENET1K_V2)\n",
        "        # Replace the last fully connected layer\n",
        "        in_features = self.resnet.fc.in_features\n",
        "        self.resnet.fc = nn.Sequential(\n",
        "            nn.Dropout(0.5),\n",
        "            nn.Linear(in_features, num_classes)\n",
        "        )\n",
        "\n",
        "    def forward(self, x):\n",
        "        return self.resnet(x)\n",
        "\n",
        "# Create the model\n",
        "model = FoodClassifier(num_classes=len(class_names))\n",
        "model = model.to(device)\n",
        "\n",
        "# PyTorch 2.0 compile (optional)\n",
        "if hasattr(torch, \"compile\"):\n",
        "    model = torch.compile(model)\n",
        "\n",
        "optimizer = optim.AdamW(model.parameters(), lr=0.001, weight_decay=1e-4)\n",
        "scheduler = StepLR(optimizer, step_size=5, gamma=0.1)\n",
        "criterion = nn.CrossEntropyLoss(label_smoothing=0.1)\n",
        "scaler = GradScaler()\n",
        "\n",
        "# Training function\n",
        "def train(model, loader, optimizer, criterion, scaler, epoch):\n",
        "    model.train()\n",
        "    total_loss, correct, total = 0, 0, 0\n",
        "\n",
        "    for images, labels in tqdm(loader, desc=f\"Epoch {epoch+1}\"):\n",
        "        images, labels = images.to(device), labels.to(device)\n",
        "        optimizer.zero_grad()\n",
        "\n",
        "        with autocast():\n",
        "            outputs = model(images)\n",
        "            loss = criterion(outputs, labels)\n",
        "\n",
        "        scaler.scale(loss).backward()\n",
        "        torch.nn.utils.clip_grad_norm_(model.parameters(), max_norm=1.0)\n",
        "        scaler.step(optimizer)\n",
        "        scaler.update()\n",
        "\n",
        "        total_loss += loss.item()\n",
        "        correct += outputs.argmax(1).eq(labels).sum().item()\n",
        "        total += labels.size(0)\n",
        "\n",
        "    acc = 100.0 * correct / total\n",
        "    return total_loss / len(loader), acc\n",
        "\n",
        "# Testing function\n",
        "def test(model, loader, criterion):\n",
        "    model.eval()\n",
        "    total_loss, correct, total = 0, 0, 0\n",
        "\n",
        "    with torch.no_grad():\n",
        "        for images, labels in loader:\n",
        "            images, labels = images.to(device), labels.to(device)\n",
        "            outputs = model(images)\n",
        "            loss = criterion(outputs, labels)\n",
        "            total_loss += loss.item()\n",
        "            correct += outputs.argmax(1).eq(labels).sum().item()\n",
        "            total += labels.size(0)\n",
        "\n",
        "    acc = 100.0 * correct / total\n",
        "    return total_loss / len(loader), acc\n",
        "\n",
        "# Training Loop\n",
        "num_epochs = 40\n",
        "best_acc = 0.0\n",
        "os.makedirs(\"checkpoints\", exist_ok=True)\n",
        "\n",
        "for epoch in range(num_epochs):\n",
        "    train_loss, train_acc = train(model, train_loader, optimizer, criterion, scaler, epoch)\n",
        "    test_loss, test_acc = test(model, test_loader, criterion)\n",
        "    scheduler.step()\n",
        "\n",
        "    print(f\"Epoch {epoch+1}: Train Acc: {train_acc:.2f}%, Test Acc: {test_acc:.2f}%\")\n",
        "\n",
        "    if test_acc > best_acc:\n",
        "        best_acc = test_acc\n",
        "        # Save model in the format expected by the Streamlit app\n",
        "        torch.save({\n",
        "            'model_state_dict': model.state_dict(),\n",
        "            'class_names': class_names,\n",
        "            'accuracy': best_acc,\n",
        "            'epoch': epoch,\n",
        "        }, \"checkpoints/best_model.pth\")\n",
        "        print(f\"✅ New best model saved: {best_acc:.2f}%\")\n",
        "\n",
        "        # Save the model also with the exact name expected by the Streamlit app\n",
        "        torch.save({\n",
        "            'model_state_dict': model.state_dict(),\n",
        "            'class_names': class_names,\n",
        "            'accuracy': best_acc,\n",
        "            'epoch': epoch,\n",
        "        }, \"food101_model_for_inference (1).pth\")\n",
        "        print(f\"✅ Model saved for inference with Streamlit app\")\n",
        "\n",
        "# Save the final model\n",
        "torch.save({\n",
        "    'model_state_dict': model.state_dict(),\n",
        "    'class_names': class_names,\n",
        "    'accuracy': test_acc,\n",
        "    'epoch': num_epochs,\n",
        "}, \"checkpoints/last_model.pth\")\n",
        "\n",
        "# Also save the final model with the expected name for Streamlit app\n",
        "torch.save({\n",
        "    'model_state_dict': model.state_dict(),\n",
        "    'class_names': class_names,\n",
        "    'accuracy': test_acc,\n",
        "    'epoch': num_epochs,\n",
        "}, \"food101_model_for_inference (1).pth\")\n",
        "\n",
        "print(f\"🏁 Training Done! Best Test Accuracy: {best_acc:.2f}%\")\n",
        "print(f\"Model saved for Streamlit app as 'food101_model_for_inference (1).pth'\")"
      ]
    },
    {
      "cell_type": "code",
      "execution_count": null,
      "metadata": {
        "id": "30tArBkWD69l"
      },
      "outputs": [],
      "source": []
    }
  ],
  "metadata": {
    "accelerator": "GPU",
    "colab": {
      "gpuType": "T4",
      "provenance": []
    },
    "kernelspec": {
      "display_name": "Python 3",
      "name": "python3"
    },
    "language_info": {
      "name": "python"
    }
  },
  "nbformat": 4,
  "nbformat_minor": 0
}